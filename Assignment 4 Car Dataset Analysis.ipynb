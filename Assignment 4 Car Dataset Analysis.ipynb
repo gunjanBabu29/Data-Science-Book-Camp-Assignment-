{
 "cells": [
  {
   "cell_type": "markdown",
   "id": "408bd15b",
   "metadata": {
    "papermill": {
     "duration": 0.009688,
     "end_time": "2024-10-09T06:58:53.036680",
     "exception": false,
     "start_time": "2024-10-09T06:58:53.026992",
     "status": "completed"
    },
    "tags": []
   },
   "source": [
    "### Importing Dependencies"
   ]
  },
  {
   "cell_type": "code",
   "execution_count": 1,
   "id": "f14d78fb",
   "metadata": {
    "execution": {
     "iopub.execute_input": "2024-10-09T06:58:53.058110Z",
     "iopub.status.busy": "2024-10-09T06:58:53.057525Z",
     "iopub.status.idle": "2024-10-09T06:58:55.230282Z",
     "shell.execute_reply": "2024-10-09T06:58:55.229214Z"
    },
    "papermill": {
     "duration": 2.186696,
     "end_time": "2024-10-09T06:58:55.233143",
     "exception": false,
     "start_time": "2024-10-09T06:58:53.046447",
     "status": "completed"
    },
    "tags": []
   },
   "outputs": [],
   "source": [
    "import pandas as pd\n",
    "import numpy as np\n",
    "import matplotlib.pyplot as plt\n",
    "import seaborn as sns\n",
    "from sklearn.linear_model import LinearRegression\n",
    "from sklearn.model_selection import train_test_split\n",
    "from sklearn.linear_model import Lasso\n",
    "from sklearn import metrics"
   ]
  },
  {
   "cell_type": "markdown",
   "id": "a356b6ff",
   "metadata": {
    "papermill": {
     "duration": 0.009688,
     "end_time": "2024-10-09T06:58:55.253058",
     "exception": false,
     "start_time": "2024-10-09T06:58:55.243370",
     "status": "completed"
    },
    "tags": []
   },
   "source": [
    "### Data Collection And Preprocessing"
   ]
  },
  {
   "cell_type": "code",
   "execution_count": 2,
   "id": "b9ec59c3",
   "metadata": {
    "execution": {
     "iopub.execute_input": "2024-10-09T06:58:55.277207Z",
     "iopub.status.busy": "2024-10-09T06:58:55.276642Z",
     "iopub.status.idle": "2024-10-09T06:58:55.300407Z",
     "shell.execute_reply": "2024-10-09T06:58:55.299479Z"
    },
    "papermill": {
     "duration": 0.038726,
     "end_time": "2024-10-09T06:58:55.303541",
     "exception": false,
     "start_time": "2024-10-09T06:58:55.264815",
     "status": "completed"
    },
    "tags": []
   },
   "outputs": [],
   "source": [
    "df = pd.read_csv(r\"C:\\Users\\gunja\\Downloads\\car data.csv\")"
   ]
  },
  {
   "cell_type": "code",
   "execution_count": 3,
   "id": "2ca64ad5",
   "metadata": {
    "execution": {
     "iopub.execute_input": "2024-10-09T06:58:55.327232Z",
     "iopub.status.busy": "2024-10-09T06:58:55.325703Z",
     "iopub.status.idle": "2024-10-09T06:58:55.353756Z",
     "shell.execute_reply": "2024-10-09T06:58:55.352379Z"
    },
    "papermill": {
     "duration": 0.042431,
     "end_time": "2024-10-09T06:58:55.356589",
     "exception": false,
     "start_time": "2024-10-09T06:58:55.314158",
     "status": "completed"
    },
    "tags": []
   },
   "outputs": [
    {
     "data": {
      "text/html": [
       "<div>\n",
       "<style scoped>\n",
       "    .dataframe tbody tr th:only-of-type {\n",
       "        vertical-align: middle;\n",
       "    }\n",
       "\n",
       "    .dataframe tbody tr th {\n",
       "        vertical-align: top;\n",
       "    }\n",
       "\n",
       "    .dataframe thead th {\n",
       "        text-align: right;\n",
       "    }\n",
       "</style>\n",
       "<table border=\"1\" class=\"dataframe\">\n",
       "  <thead>\n",
       "    <tr style=\"text-align: right;\">\n",
       "      <th></th>\n",
       "      <th>Car_Name</th>\n",
       "      <th>Year</th>\n",
       "      <th>Selling_Price</th>\n",
       "      <th>Present_Price</th>\n",
       "      <th>Kms_Driven</th>\n",
       "      <th>Fuel_Type</th>\n",
       "      <th>Seller_Type</th>\n",
       "      <th>Transmission</th>\n",
       "      <th>Owner</th>\n",
       "    </tr>\n",
       "  </thead>\n",
       "  <tbody>\n",
       "    <tr>\n",
       "      <th>0</th>\n",
       "      <td>ritz</td>\n",
       "      <td>2014</td>\n",
       "      <td>3.35</td>\n",
       "      <td>5.59</td>\n",
       "      <td>27000</td>\n",
       "      <td>Petrol</td>\n",
       "      <td>Dealer</td>\n",
       "      <td>Manual</td>\n",
       "      <td>0</td>\n",
       "    </tr>\n",
       "    <tr>\n",
       "      <th>1</th>\n",
       "      <td>sx4</td>\n",
       "      <td>2013</td>\n",
       "      <td>4.75</td>\n",
       "      <td>9.54</td>\n",
       "      <td>43000</td>\n",
       "      <td>Diesel</td>\n",
       "      <td>Dealer</td>\n",
       "      <td>Manual</td>\n",
       "      <td>0</td>\n",
       "    </tr>\n",
       "    <tr>\n",
       "      <th>2</th>\n",
       "      <td>ciaz</td>\n",
       "      <td>2017</td>\n",
       "      <td>7.25</td>\n",
       "      <td>9.85</td>\n",
       "      <td>6900</td>\n",
       "      <td>Petrol</td>\n",
       "      <td>Dealer</td>\n",
       "      <td>Manual</td>\n",
       "      <td>0</td>\n",
       "    </tr>\n",
       "    <tr>\n",
       "      <th>3</th>\n",
       "      <td>wagon r</td>\n",
       "      <td>2011</td>\n",
       "      <td>2.85</td>\n",
       "      <td>4.15</td>\n",
       "      <td>5200</td>\n",
       "      <td>Petrol</td>\n",
       "      <td>Dealer</td>\n",
       "      <td>Manual</td>\n",
       "      <td>0</td>\n",
       "    </tr>\n",
       "    <tr>\n",
       "      <th>4</th>\n",
       "      <td>swift</td>\n",
       "      <td>2014</td>\n",
       "      <td>4.60</td>\n",
       "      <td>6.87</td>\n",
       "      <td>42450</td>\n",
       "      <td>Diesel</td>\n",
       "      <td>Dealer</td>\n",
       "      <td>Manual</td>\n",
       "      <td>0</td>\n",
       "    </tr>\n",
       "  </tbody>\n",
       "</table>\n",
       "</div>"
      ],
      "text/plain": [
       "  Car_Name  Year  Selling_Price  Present_Price  Kms_Driven Fuel_Type  \\\n",
       "0     ritz  2014           3.35           5.59       27000    Petrol   \n",
       "1      sx4  2013           4.75           9.54       43000    Diesel   \n",
       "2     ciaz  2017           7.25           9.85        6900    Petrol   \n",
       "3  wagon r  2011           2.85           4.15        5200    Petrol   \n",
       "4    swift  2014           4.60           6.87       42450    Diesel   \n",
       "\n",
       "  Seller_Type Transmission  Owner  \n",
       "0      Dealer       Manual      0  \n",
       "1      Dealer       Manual      0  \n",
       "2      Dealer       Manual      0  \n",
       "3      Dealer       Manual      0  \n",
       "4      Dealer       Manual      0  "
      ]
     },
     "execution_count": 3,
     "metadata": {},
     "output_type": "execute_result"
    }
   ],
   "source": [
    "df.head()"
   ]
  },
  {
   "cell_type": "code",
   "execution_count": 4,
   "id": "c454836e",
   "metadata": {
    "execution": {
     "iopub.execute_input": "2024-10-09T06:58:55.378727Z",
     "iopub.status.busy": "2024-10-09T06:58:55.378259Z",
     "iopub.status.idle": "2024-10-09T06:58:55.391135Z",
     "shell.execute_reply": "2024-10-09T06:58:55.389949Z"
    },
    "papermill": {
     "duration": 0.027025,
     "end_time": "2024-10-09T06:58:55.393782",
     "exception": false,
     "start_time": "2024-10-09T06:58:55.366757",
     "status": "completed"
    },
    "tags": []
   },
   "outputs": [
    {
     "data": {
      "text/plain": [
       "Car_Name         0\n",
       "Year             0\n",
       "Selling_Price    0\n",
       "Present_Price    0\n",
       "Kms_Driven       0\n",
       "Fuel_Type        0\n",
       "Seller_Type      0\n",
       "Transmission     0\n",
       "Owner            0\n",
       "dtype: int64"
      ]
     },
     "execution_count": 4,
     "metadata": {},
     "output_type": "execute_result"
    }
   ],
   "source": [
    "df.isnull().sum()"
   ]
  },
  {
   "cell_type": "code",
   "execution_count": 5,
   "id": "7ee3de44",
   "metadata": {
    "execution": {
     "iopub.execute_input": "2024-10-09T06:58:55.417105Z",
     "iopub.status.busy": "2024-10-09T06:58:55.416679Z",
     "iopub.status.idle": "2024-10-09T06:58:55.424742Z",
     "shell.execute_reply": "2024-10-09T06:58:55.423241Z"
    },
    "papermill": {
     "duration": 0.022615,
     "end_time": "2024-10-09T06:58:55.427251",
     "exception": false,
     "start_time": "2024-10-09T06:58:55.404636",
     "status": "completed"
    },
    "tags": []
   },
   "outputs": [
    {
     "data": {
      "text/plain": [
       "(301, 9)"
      ]
     },
     "execution_count": 5,
     "metadata": {},
     "output_type": "execute_result"
    }
   ],
   "source": [
    "df.shape"
   ]
  },
  {
   "cell_type": "code",
   "execution_count": 6,
   "id": "573681ee",
   "metadata": {
    "execution": {
     "iopub.execute_input": "2024-10-09T06:58:55.451025Z",
     "iopub.status.busy": "2024-10-09T06:58:55.450614Z",
     "iopub.status.idle": "2024-10-09T06:58:55.481294Z",
     "shell.execute_reply": "2024-10-09T06:58:55.480075Z"
    },
    "papermill": {
     "duration": 0.045599,
     "end_time": "2024-10-09T06:58:55.484061",
     "exception": false,
     "start_time": "2024-10-09T06:58:55.438462",
     "status": "completed"
    },
    "tags": []
   },
   "outputs": [
    {
     "data": {
      "text/html": [
       "<div>\n",
       "<style scoped>\n",
       "    .dataframe tbody tr th:only-of-type {\n",
       "        vertical-align: middle;\n",
       "    }\n",
       "\n",
       "    .dataframe tbody tr th {\n",
       "        vertical-align: top;\n",
       "    }\n",
       "\n",
       "    .dataframe thead th {\n",
       "        text-align: right;\n",
       "    }\n",
       "</style>\n",
       "<table border=\"1\" class=\"dataframe\">\n",
       "  <thead>\n",
       "    <tr style=\"text-align: right;\">\n",
       "      <th></th>\n",
       "      <th>Year</th>\n",
       "      <th>Selling_Price</th>\n",
       "      <th>Present_Price</th>\n",
       "      <th>Kms_Driven</th>\n",
       "      <th>Owner</th>\n",
       "    </tr>\n",
       "  </thead>\n",
       "  <tbody>\n",
       "    <tr>\n",
       "      <th>count</th>\n",
       "      <td>301.000000</td>\n",
       "      <td>301.000000</td>\n",
       "      <td>301.000000</td>\n",
       "      <td>301.000000</td>\n",
       "      <td>301.000000</td>\n",
       "    </tr>\n",
       "    <tr>\n",
       "      <th>mean</th>\n",
       "      <td>2013.627907</td>\n",
       "      <td>4.661296</td>\n",
       "      <td>7.628472</td>\n",
       "      <td>36947.205980</td>\n",
       "      <td>0.043189</td>\n",
       "    </tr>\n",
       "    <tr>\n",
       "      <th>std</th>\n",
       "      <td>2.891554</td>\n",
       "      <td>5.082812</td>\n",
       "      <td>8.644115</td>\n",
       "      <td>38886.883882</td>\n",
       "      <td>0.247915</td>\n",
       "    </tr>\n",
       "    <tr>\n",
       "      <th>min</th>\n",
       "      <td>2003.000000</td>\n",
       "      <td>0.100000</td>\n",
       "      <td>0.320000</td>\n",
       "      <td>500.000000</td>\n",
       "      <td>0.000000</td>\n",
       "    </tr>\n",
       "    <tr>\n",
       "      <th>25%</th>\n",
       "      <td>2012.000000</td>\n",
       "      <td>0.900000</td>\n",
       "      <td>1.200000</td>\n",
       "      <td>15000.000000</td>\n",
       "      <td>0.000000</td>\n",
       "    </tr>\n",
       "    <tr>\n",
       "      <th>50%</th>\n",
       "      <td>2014.000000</td>\n",
       "      <td>3.600000</td>\n",
       "      <td>6.400000</td>\n",
       "      <td>32000.000000</td>\n",
       "      <td>0.000000</td>\n",
       "    </tr>\n",
       "    <tr>\n",
       "      <th>75%</th>\n",
       "      <td>2016.000000</td>\n",
       "      <td>6.000000</td>\n",
       "      <td>9.900000</td>\n",
       "      <td>48767.000000</td>\n",
       "      <td>0.000000</td>\n",
       "    </tr>\n",
       "    <tr>\n",
       "      <th>max</th>\n",
       "      <td>2018.000000</td>\n",
       "      <td>35.000000</td>\n",
       "      <td>92.600000</td>\n",
       "      <td>500000.000000</td>\n",
       "      <td>3.000000</td>\n",
       "    </tr>\n",
       "  </tbody>\n",
       "</table>\n",
       "</div>"
      ],
      "text/plain": [
       "              Year  Selling_Price  Present_Price     Kms_Driven       Owner\n",
       "count   301.000000     301.000000     301.000000     301.000000  301.000000\n",
       "mean   2013.627907       4.661296       7.628472   36947.205980    0.043189\n",
       "std       2.891554       5.082812       8.644115   38886.883882    0.247915\n",
       "min    2003.000000       0.100000       0.320000     500.000000    0.000000\n",
       "25%    2012.000000       0.900000       1.200000   15000.000000    0.000000\n",
       "50%    2014.000000       3.600000       6.400000   32000.000000    0.000000\n",
       "75%    2016.000000       6.000000       9.900000   48767.000000    0.000000\n",
       "max    2018.000000      35.000000      92.600000  500000.000000    3.000000"
      ]
     },
     "execution_count": 6,
     "metadata": {},
     "output_type": "execute_result"
    }
   ],
   "source": [
    "df.describe()"
   ]
  },
  {
   "cell_type": "code",
   "execution_count": 7,
   "id": "a39cdce8",
   "metadata": {
    "execution": {
     "iopub.execute_input": "2024-10-09T06:58:55.507075Z",
     "iopub.status.busy": "2024-10-09T06:58:55.506641Z",
     "iopub.status.idle": "2024-10-09T06:58:55.532187Z",
     "shell.execute_reply": "2024-10-09T06:58:55.531075Z"
    },
    "papermill": {
     "duration": 0.040775,
     "end_time": "2024-10-09T06:58:55.535541",
     "exception": false,
     "start_time": "2024-10-09T06:58:55.494766",
     "status": "completed"
    },
    "tags": []
   },
   "outputs": [
    {
     "name": "stdout",
     "output_type": "stream",
     "text": [
      "<class 'pandas.core.frame.DataFrame'>\n",
      "RangeIndex: 301 entries, 0 to 300\n",
      "Data columns (total 9 columns):\n",
      " #   Column         Non-Null Count  Dtype  \n",
      "---  ------         --------------  -----  \n",
      " 0   Car_Name       301 non-null    object \n",
      " 1   Year           301 non-null    int64  \n",
      " 2   Selling_Price  301 non-null    float64\n",
      " 3   Present_Price  301 non-null    float64\n",
      " 4   Kms_Driven     301 non-null    int64  \n",
      " 5   Fuel_Type      301 non-null    object \n",
      " 6   Seller_Type    301 non-null    object \n",
      " 7   Transmission   301 non-null    object \n",
      " 8   Owner          301 non-null    int64  \n",
      "dtypes: float64(2), int64(3), object(4)\n",
      "memory usage: 21.3+ KB\n"
     ]
    }
   ],
   "source": [
    "df.info()"
   ]
  },
  {
   "cell_type": "code",
   "execution_count": 8,
   "id": "e49761b1",
   "metadata": {
    "execution": {
     "iopub.execute_input": "2024-10-09T06:58:55.559692Z",
     "iopub.status.busy": "2024-10-09T06:58:55.559174Z",
     "iopub.status.idle": "2024-10-09T06:58:55.569349Z",
     "shell.execute_reply": "2024-10-09T06:58:55.568178Z"
    },
    "papermill": {
     "duration": 0.024787,
     "end_time": "2024-10-09T06:58:55.571873",
     "exception": false,
     "start_time": "2024-10-09T06:58:55.547086",
     "status": "completed"
    },
    "tags": []
   },
   "outputs": [
    {
     "name": "stdout",
     "output_type": "stream",
     "text": [
      "Fuel_Type\n",
      "Petrol    239\n",
      "Diesel     60\n",
      "CNG         2\n",
      "Name: count, dtype: int64\n",
      "Seller_Type\n",
      "Dealer        195\n",
      "Individual    106\n",
      "Name: count, dtype: int64\n",
      "Transmission\n",
      "Manual       261\n",
      "Automatic     40\n",
      "Name: count, dtype: int64\n"
     ]
    }
   ],
   "source": [
    "print(df.Fuel_Type.value_counts())\n",
    "print(df.Seller_Type .value_counts())\n",
    "print(df.Transmission.value_counts())"
   ]
  },
  {
   "cell_type": "code",
   "execution_count": 9,
   "id": "24a7cf8b",
   "metadata": {
    "execution": {
     "iopub.execute_input": "2024-10-09T06:58:55.596356Z",
     "iopub.status.busy": "2024-10-09T06:58:55.595845Z",
     "iopub.status.idle": "2024-10-09T06:58:55.601606Z",
     "shell.execute_reply": "2024-10-09T06:58:55.600290Z"
    },
    "papermill": {
     "duration": 0.021434,
     "end_time": "2024-10-09T06:58:55.604129",
     "exception": false,
     "start_time": "2024-10-09T06:58:55.582695",
     "status": "completed"
    },
    "tags": []
   },
   "outputs": [],
   "source": [
    "from sklearn.preprocessing import LabelEncoder"
   ]
  },
  {
   "cell_type": "code",
   "execution_count": 10,
   "id": "944e68ee",
   "metadata": {
    "execution": {
     "iopub.execute_input": "2024-10-09T06:58:55.628022Z",
     "iopub.status.busy": "2024-10-09T06:58:55.627173Z",
     "iopub.status.idle": "2024-10-09T06:58:55.647654Z",
     "shell.execute_reply": "2024-10-09T06:58:55.646363Z"
    },
    "papermill": {
     "duration": 0.035318,
     "end_time": "2024-10-09T06:58:55.650276",
     "exception": false,
     "start_time": "2024-10-09T06:58:55.614958",
     "status": "completed"
    },
    "tags": []
   },
   "outputs": [
    {
     "data": {
      "text/html": [
       "<div>\n",
       "<style scoped>\n",
       "    .dataframe tbody tr th:only-of-type {\n",
       "        vertical-align: middle;\n",
       "    }\n",
       "\n",
       "    .dataframe tbody tr th {\n",
       "        vertical-align: top;\n",
       "    }\n",
       "\n",
       "    .dataframe thead th {\n",
       "        text-align: right;\n",
       "    }\n",
       "</style>\n",
       "<table border=\"1\" class=\"dataframe\">\n",
       "  <thead>\n",
       "    <tr style=\"text-align: right;\">\n",
       "      <th></th>\n",
       "      <th>Car_Name</th>\n",
       "      <th>Year</th>\n",
       "      <th>Selling_Price</th>\n",
       "      <th>Present_Price</th>\n",
       "      <th>Kms_Driven</th>\n",
       "      <th>Fuel_Type</th>\n",
       "      <th>Seller_Type</th>\n",
       "      <th>Transmission</th>\n",
       "      <th>Owner</th>\n",
       "    </tr>\n",
       "  </thead>\n",
       "  <tbody>\n",
       "    <tr>\n",
       "      <th>0</th>\n",
       "      <td>90</td>\n",
       "      <td>2014</td>\n",
       "      <td>3.35</td>\n",
       "      <td>5.59</td>\n",
       "      <td>27000</td>\n",
       "      <td>2</td>\n",
       "      <td>0</td>\n",
       "      <td>1</td>\n",
       "      <td>0</td>\n",
       "    </tr>\n",
       "    <tr>\n",
       "      <th>1</th>\n",
       "      <td>93</td>\n",
       "      <td>2013</td>\n",
       "      <td>4.75</td>\n",
       "      <td>9.54</td>\n",
       "      <td>43000</td>\n",
       "      <td>1</td>\n",
       "      <td>0</td>\n",
       "      <td>1</td>\n",
       "      <td>0</td>\n",
       "    </tr>\n",
       "    <tr>\n",
       "      <th>2</th>\n",
       "      <td>68</td>\n",
       "      <td>2017</td>\n",
       "      <td>7.25</td>\n",
       "      <td>9.85</td>\n",
       "      <td>6900</td>\n",
       "      <td>2</td>\n",
       "      <td>0</td>\n",
       "      <td>1</td>\n",
       "      <td>0</td>\n",
       "    </tr>\n",
       "    <tr>\n",
       "      <th>3</th>\n",
       "      <td>96</td>\n",
       "      <td>2011</td>\n",
       "      <td>2.85</td>\n",
       "      <td>4.15</td>\n",
       "      <td>5200</td>\n",
       "      <td>2</td>\n",
       "      <td>0</td>\n",
       "      <td>1</td>\n",
       "      <td>0</td>\n",
       "    </tr>\n",
       "    <tr>\n",
       "      <th>4</th>\n",
       "      <td>92</td>\n",
       "      <td>2014</td>\n",
       "      <td>4.60</td>\n",
       "      <td>6.87</td>\n",
       "      <td>42450</td>\n",
       "      <td>1</td>\n",
       "      <td>0</td>\n",
       "      <td>1</td>\n",
       "      <td>0</td>\n",
       "    </tr>\n",
       "  </tbody>\n",
       "</table>\n",
       "</div>"
      ],
      "text/plain": [
       "   Car_Name  Year  Selling_Price  Present_Price  Kms_Driven  Fuel_Type  \\\n",
       "0        90  2014           3.35           5.59       27000          2   \n",
       "1        93  2013           4.75           9.54       43000          1   \n",
       "2        68  2017           7.25           9.85        6900          2   \n",
       "3        96  2011           2.85           4.15        5200          2   \n",
       "4        92  2014           4.60           6.87       42450          1   \n",
       "\n",
       "   Seller_Type  Transmission  Owner  \n",
       "0            0             1      0  \n",
       "1            0             1      0  \n",
       "2            0             1      0  \n",
       "3            0             1      0  \n",
       "4            0             1      0  "
      ]
     },
     "execution_count": 10,
     "metadata": {},
     "output_type": "execute_result"
    }
   ],
   "source": [
    "# Identify categorical columns\n",
    "categorical_columns = df.select_dtypes(include=['object']).columns\n",
    "\n",
    "# Initialize LabelEncoder\n",
    "le = LabelEncoder()\n",
    "\n",
    "# Apply LabelEncoder only to the categorical columns\n",
    "for col in categorical_columns:\n",
    "    df[col] = le.fit_transform(df[col])\n",
    "\n",
    "df.head()"
   ]
  },
  {
   "cell_type": "markdown",
   "id": "d666624a",
   "metadata": {
    "papermill": {
     "duration": 0.011118,
     "end_time": "2024-10-09T06:58:55.672845",
     "exception": false,
     "start_time": "2024-10-09T06:58:55.661727",
     "status": "completed"
    },
    "tags": []
   },
   "source": [
    "### Label The Data"
   ]
  },
  {
   "cell_type": "code",
   "execution_count": 11,
   "id": "f3965b74",
   "metadata": {
    "execution": {
     "iopub.execute_input": "2024-10-09T06:58:55.697268Z",
     "iopub.status.busy": "2024-10-09T06:58:55.696862Z",
     "iopub.status.idle": "2024-10-09T06:58:55.705127Z",
     "shell.execute_reply": "2024-10-09T06:58:55.703793Z"
    },
    "papermill": {
     "duration": 0.023558,
     "end_time": "2024-10-09T06:58:55.707905",
     "exception": false,
     "start_time": "2024-10-09T06:58:55.684347",
     "status": "completed"
    },
    "tags": []
   },
   "outputs": [],
   "source": [
    "x = df.drop(['Car_Name','Selling_Price'],axis= 1)\n",
    "y = df['Selling_Price']"
   ]
  },
  {
   "cell_type": "code",
   "execution_count": 12,
   "id": "8ed215c0",
   "metadata": {
    "execution": {
     "iopub.execute_input": "2024-10-09T06:58:55.731974Z",
     "iopub.status.busy": "2024-10-09T06:58:55.731518Z",
     "iopub.status.idle": "2024-10-09T06:58:55.744146Z",
     "shell.execute_reply": "2024-10-09T06:58:55.742786Z"
    },
    "papermill": {
     "duration": 0.028239,
     "end_time": "2024-10-09T06:58:55.747220",
     "exception": false,
     "start_time": "2024-10-09T06:58:55.718981",
     "status": "completed"
    },
    "tags": []
   },
   "outputs": [
    {
     "name": "stdout",
     "output_type": "stream",
     "text": [
      "     Year  Present_Price  Kms_Driven  Fuel_Type  Seller_Type  Transmission  \\\n",
      "0    2014           5.59       27000          2            0             1   \n",
      "1    2013           9.54       43000          1            0             1   \n",
      "2    2017           9.85        6900          2            0             1   \n",
      "3    2011           4.15        5200          2            0             1   \n",
      "4    2014           6.87       42450          1            0             1   \n",
      "..    ...            ...         ...        ...          ...           ...   \n",
      "296  2016          11.60       33988          1            0             1   \n",
      "297  2015           5.90       60000          2            0             1   \n",
      "298  2009          11.00       87934          2            0             1   \n",
      "299  2017          12.50        9000          1            0             1   \n",
      "300  2016           5.90        5464          2            0             1   \n",
      "\n",
      "     Owner  \n",
      "0        0  \n",
      "1        0  \n",
      "2        0  \n",
      "3        0  \n",
      "4        0  \n",
      "..     ...  \n",
      "296      0  \n",
      "297      0  \n",
      "298      0  \n",
      "299      0  \n",
      "300      0  \n",
      "\n",
      "[301 rows x 7 columns]\n",
      "0       3.35\n",
      "1       4.75\n",
      "2       7.25\n",
      "3       2.85\n",
      "4       4.60\n",
      "       ...  \n",
      "296     9.50\n",
      "297     4.00\n",
      "298     3.35\n",
      "299    11.50\n",
      "300     5.30\n",
      "Name: Selling_Price, Length: 301, dtype: float64\n"
     ]
    }
   ],
   "source": [
    "print(x)\n",
    "print(y)"
   ]
  },
  {
   "cell_type": "markdown",
   "id": "1ff8fae7",
   "metadata": {
    "papermill": {
     "duration": 0.010988,
     "end_time": "2024-10-09T06:58:55.769552",
     "exception": false,
     "start_time": "2024-10-09T06:58:55.758564",
     "status": "completed"
    },
    "tags": []
   },
   "source": [
    "### Splitting the data into Training data and Tedt Data"
   ]
  },
  {
   "cell_type": "code",
   "execution_count": 13,
   "id": "c5c35d8d",
   "metadata": {
    "execution": {
     "iopub.execute_input": "2024-10-09T06:58:55.793988Z",
     "iopub.status.busy": "2024-10-09T06:58:55.793510Z",
     "iopub.status.idle": "2024-10-09T06:58:55.804842Z",
     "shell.execute_reply": "2024-10-09T06:58:55.803507Z"
    },
    "papermill": {
     "duration": 0.026788,
     "end_time": "2024-10-09T06:58:55.807534",
     "exception": false,
     "start_time": "2024-10-09T06:58:55.780746",
     "status": "completed"
    },
    "tags": []
   },
   "outputs": [],
   "source": [
    "x_train,x_test,y_train,y_test = train_test_split(x,y,test_size = 0.2,random_state = 2)"
   ]
  },
  {
   "cell_type": "code",
   "execution_count": 14,
   "id": "f245eb87",
   "metadata": {
    "execution": {
     "iopub.execute_input": "2024-10-09T06:58:55.832804Z",
     "iopub.status.busy": "2024-10-09T06:58:55.832282Z",
     "iopub.status.idle": "2024-10-09T06:58:55.847347Z",
     "shell.execute_reply": "2024-10-09T06:58:55.846159Z"
    },
    "papermill": {
     "duration": 0.031275,
     "end_time": "2024-10-09T06:58:55.850160",
     "exception": false,
     "start_time": "2024-10-09T06:58:55.818885",
     "status": "completed"
    },
    "tags": []
   },
   "outputs": [
    {
     "data": {
      "text/html": [
       "<div>\n",
       "<style scoped>\n",
       "    .dataframe tbody tr th:only-of-type {\n",
       "        vertical-align: middle;\n",
       "    }\n",
       "\n",
       "    .dataframe tbody tr th {\n",
       "        vertical-align: top;\n",
       "    }\n",
       "\n",
       "    .dataframe thead th {\n",
       "        text-align: right;\n",
       "    }\n",
       "</style>\n",
       "<table border=\"1\" class=\"dataframe\">\n",
       "  <thead>\n",
       "    <tr style=\"text-align: right;\">\n",
       "      <th></th>\n",
       "      <th>Year</th>\n",
       "      <th>Present_Price</th>\n",
       "      <th>Kms_Driven</th>\n",
       "      <th>Fuel_Type</th>\n",
       "      <th>Seller_Type</th>\n",
       "      <th>Transmission</th>\n",
       "      <th>Owner</th>\n",
       "    </tr>\n",
       "  </thead>\n",
       "  <tbody>\n",
       "    <tr>\n",
       "      <th>235</th>\n",
       "      <td>2017</td>\n",
       "      <td>9.40</td>\n",
       "      <td>15141</td>\n",
       "      <td>2</td>\n",
       "      <td>0</td>\n",
       "      <td>1</td>\n",
       "      <td>0</td>\n",
       "    </tr>\n",
       "    <tr>\n",
       "      <th>106</th>\n",
       "      <td>2014</td>\n",
       "      <td>3.45</td>\n",
       "      <td>16500</td>\n",
       "      <td>2</td>\n",
       "      <td>1</td>\n",
       "      <td>1</td>\n",
       "      <td>1</td>\n",
       "    </tr>\n",
       "    <tr>\n",
       "      <th>10</th>\n",
       "      <td>2017</td>\n",
       "      <td>3.60</td>\n",
       "      <td>2135</td>\n",
       "      <td>2</td>\n",
       "      <td>0</td>\n",
       "      <td>1</td>\n",
       "      <td>0</td>\n",
       "    </tr>\n",
       "    <tr>\n",
       "      <th>152</th>\n",
       "      <td>2012</td>\n",
       "      <td>0.99</td>\n",
       "      <td>13000</td>\n",
       "      <td>2</td>\n",
       "      <td>1</td>\n",
       "      <td>1</td>\n",
       "      <td>0</td>\n",
       "    </tr>\n",
       "    <tr>\n",
       "      <th>77</th>\n",
       "      <td>2004</td>\n",
       "      <td>12.35</td>\n",
       "      <td>135154</td>\n",
       "      <td>2</td>\n",
       "      <td>0</td>\n",
       "      <td>0</td>\n",
       "      <td>0</td>\n",
       "    </tr>\n",
       "  </tbody>\n",
       "</table>\n",
       "</div>"
      ],
      "text/plain": [
       "     Year  Present_Price  Kms_Driven  Fuel_Type  Seller_Type  Transmission  \\\n",
       "235  2017           9.40       15141          2            0             1   \n",
       "106  2014           3.45       16500          2            1             1   \n",
       "10   2017           3.60        2135          2            0             1   \n",
       "152  2012           0.99       13000          2            1             1   \n",
       "77   2004          12.35      135154          2            0             0   \n",
       "\n",
       "     Owner  \n",
       "235      0  \n",
       "106      1  \n",
       "10       0  \n",
       "152      0  \n",
       "77       0  "
      ]
     },
     "execution_count": 14,
     "metadata": {},
     "output_type": "execute_result"
    }
   ],
   "source": [
    "x_train.head()"
   ]
  },
  {
   "cell_type": "code",
   "execution_count": 15,
   "id": "e338836d",
   "metadata": {
    "execution": {
     "iopub.execute_input": "2024-10-09T06:58:55.875861Z",
     "iopub.status.busy": "2024-10-09T06:58:55.875420Z",
     "iopub.status.idle": "2024-10-09T06:58:55.885666Z",
     "shell.execute_reply": "2024-10-09T06:58:55.884483Z"
    },
    "papermill": {
     "duration": 0.026096,
     "end_time": "2024-10-09T06:58:55.888292",
     "exception": false,
     "start_time": "2024-10-09T06:58:55.862196",
     "status": "completed"
    },
    "tags": []
   },
   "outputs": [
    {
     "data": {
      "text/plain": [
       "235    9.10\n",
       "106    1.35\n",
       "10     2.85\n",
       "152    0.50\n",
       "77     1.50\n",
       "Name: Selling_Price, dtype: float64"
      ]
     },
     "execution_count": 15,
     "metadata": {},
     "output_type": "execute_result"
    }
   ],
   "source": [
    "y_train.head()"
   ]
  },
  {
   "cell_type": "markdown",
   "id": "21a16264",
   "metadata": {
    "papermill": {
     "duration": 0.011314,
     "end_time": "2024-10-09T06:58:55.911471",
     "exception": false,
     "start_time": "2024-10-09T06:58:55.900157",
     "status": "completed"
    },
    "tags": []
   },
   "source": [
    "### Model Training"
   ]
  },
  {
   "cell_type": "markdown",
   "id": "a21d5b7d",
   "metadata": {
    "papermill": {
     "duration": 0.011471,
     "end_time": "2024-10-09T06:58:55.934754",
     "exception": false,
     "start_time": "2024-10-09T06:58:55.923283",
     "status": "completed"
    },
    "tags": []
   },
   "source": [
    "1. Linear Regression"
   ]
  },
  {
   "cell_type": "code",
   "execution_count": 16,
   "id": "df160bbb",
   "metadata": {
    "execution": {
     "iopub.execute_input": "2024-10-09T06:58:55.959997Z",
     "iopub.status.busy": "2024-10-09T06:58:55.959588Z",
     "iopub.status.idle": "2024-10-09T06:58:55.965098Z",
     "shell.execute_reply": "2024-10-09T06:58:55.963827Z"
    },
    "papermill": {
     "duration": 0.021106,
     "end_time": "2024-10-09T06:58:55.967603",
     "exception": false,
     "start_time": "2024-10-09T06:58:55.946497",
     "status": "completed"
    },
    "tags": []
   },
   "outputs": [],
   "source": [
    "# Loading the linear regression model\n",
    "le = LinearRegression()"
   ]
  },
  {
   "cell_type": "code",
   "execution_count": 17,
   "id": "0388bcd7",
   "metadata": {
    "execution": {
     "iopub.execute_input": "2024-10-09T06:58:55.992660Z",
     "iopub.status.busy": "2024-10-09T06:58:55.992189Z",
     "iopub.status.idle": "2024-10-09T06:58:56.024954Z",
     "shell.execute_reply": "2024-10-09T06:58:56.023707Z"
    },
    "papermill": {
     "duration": 0.048681,
     "end_time": "2024-10-09T06:58:56.027926",
     "exception": false,
     "start_time": "2024-10-09T06:58:55.979245",
     "status": "completed"
    },
    "tags": []
   },
   "outputs": [
    {
     "data": {
      "text/html": [
       "<style>#sk-container-id-1 {\n",
       "  /* Definition of color scheme common for light and dark mode */\n",
       "  --sklearn-color-text: black;\n",
       "  --sklearn-color-line: gray;\n",
       "  /* Definition of color scheme for unfitted estimators */\n",
       "  --sklearn-color-unfitted-level-0: #fff5e6;\n",
       "  --sklearn-color-unfitted-level-1: #f6e4d2;\n",
       "  --sklearn-color-unfitted-level-2: #ffe0b3;\n",
       "  --sklearn-color-unfitted-level-3: chocolate;\n",
       "  /* Definition of color scheme for fitted estimators */\n",
       "  --sklearn-color-fitted-level-0: #f0f8ff;\n",
       "  --sklearn-color-fitted-level-1: #d4ebff;\n",
       "  --sklearn-color-fitted-level-2: #b3dbfd;\n",
       "  --sklearn-color-fitted-level-3: cornflowerblue;\n",
       "\n",
       "  /* Specific color for light theme */\n",
       "  --sklearn-color-text-on-default-background: var(--sg-text-color, var(--theme-code-foreground, var(--jp-content-font-color1, black)));\n",
       "  --sklearn-color-background: var(--sg-background-color, var(--theme-background, var(--jp-layout-color0, white)));\n",
       "  --sklearn-color-border-box: var(--sg-text-color, var(--theme-code-foreground, var(--jp-content-font-color1, black)));\n",
       "  --sklearn-color-icon: #696969;\n",
       "\n",
       "  @media (prefers-color-scheme: dark) {\n",
       "    /* Redefinition of color scheme for dark theme */\n",
       "    --sklearn-color-text-on-default-background: var(--sg-text-color, var(--theme-code-foreground, var(--jp-content-font-color1, white)));\n",
       "    --sklearn-color-background: var(--sg-background-color, var(--theme-background, var(--jp-layout-color0, #111)));\n",
       "    --sklearn-color-border-box: var(--sg-text-color, var(--theme-code-foreground, var(--jp-content-font-color1, white)));\n",
       "    --sklearn-color-icon: #878787;\n",
       "  }\n",
       "}\n",
       "\n",
       "#sk-container-id-1 {\n",
       "  color: var(--sklearn-color-text);\n",
       "}\n",
       "\n",
       "#sk-container-id-1 pre {\n",
       "  padding: 0;\n",
       "}\n",
       "\n",
       "#sk-container-id-1 input.sk-hidden--visually {\n",
       "  border: 0;\n",
       "  clip: rect(1px 1px 1px 1px);\n",
       "  clip: rect(1px, 1px, 1px, 1px);\n",
       "  height: 1px;\n",
       "  margin: -1px;\n",
       "  overflow: hidden;\n",
       "  padding: 0;\n",
       "  position: absolute;\n",
       "  width: 1px;\n",
       "}\n",
       "\n",
       "#sk-container-id-1 div.sk-dashed-wrapped {\n",
       "  border: 1px dashed var(--sklearn-color-line);\n",
       "  margin: 0 0.4em 0.5em 0.4em;\n",
       "  box-sizing: border-box;\n",
       "  padding-bottom: 0.4em;\n",
       "  background-color: var(--sklearn-color-background);\n",
       "}\n",
       "\n",
       "#sk-container-id-1 div.sk-container {\n",
       "  /* jupyter's `normalize.less` sets `[hidden] { display: none; }`\n",
       "     but bootstrap.min.css set `[hidden] { display: none !important; }`\n",
       "     so we also need the `!important` here to be able to override the\n",
       "     default hidden behavior on the sphinx rendered scikit-learn.org.\n",
       "     See: https://github.com/scikit-learn/scikit-learn/issues/21755 */\n",
       "  display: inline-block !important;\n",
       "  position: relative;\n",
       "}\n",
       "\n",
       "#sk-container-id-1 div.sk-text-repr-fallback {\n",
       "  display: none;\n",
       "}\n",
       "\n",
       "div.sk-parallel-item,\n",
       "div.sk-serial,\n",
       "div.sk-item {\n",
       "  /* draw centered vertical line to link estimators */\n",
       "  background-image: linear-gradient(var(--sklearn-color-text-on-default-background), var(--sklearn-color-text-on-default-background));\n",
       "  background-size: 2px 100%;\n",
       "  background-repeat: no-repeat;\n",
       "  background-position: center center;\n",
       "}\n",
       "\n",
       "/* Parallel-specific style estimator block */\n",
       "\n",
       "#sk-container-id-1 div.sk-parallel-item::after {\n",
       "  content: \"\";\n",
       "  width: 100%;\n",
       "  border-bottom: 2px solid var(--sklearn-color-text-on-default-background);\n",
       "  flex-grow: 1;\n",
       "}\n",
       "\n",
       "#sk-container-id-1 div.sk-parallel {\n",
       "  display: flex;\n",
       "  align-items: stretch;\n",
       "  justify-content: center;\n",
       "  background-color: var(--sklearn-color-background);\n",
       "  position: relative;\n",
       "}\n",
       "\n",
       "#sk-container-id-1 div.sk-parallel-item {\n",
       "  display: flex;\n",
       "  flex-direction: column;\n",
       "}\n",
       "\n",
       "#sk-container-id-1 div.sk-parallel-item:first-child::after {\n",
       "  align-self: flex-end;\n",
       "  width: 50%;\n",
       "}\n",
       "\n",
       "#sk-container-id-1 div.sk-parallel-item:last-child::after {\n",
       "  align-self: flex-start;\n",
       "  width: 50%;\n",
       "}\n",
       "\n",
       "#sk-container-id-1 div.sk-parallel-item:only-child::after {\n",
       "  width: 0;\n",
       "}\n",
       "\n",
       "/* Serial-specific style estimator block */\n",
       "\n",
       "#sk-container-id-1 div.sk-serial {\n",
       "  display: flex;\n",
       "  flex-direction: column;\n",
       "  align-items: center;\n",
       "  background-color: var(--sklearn-color-background);\n",
       "  padding-right: 1em;\n",
       "  padding-left: 1em;\n",
       "}\n",
       "\n",
       "\n",
       "/* Toggleable style: style used for estimator/Pipeline/ColumnTransformer box that is\n",
       "clickable and can be expanded/collapsed.\n",
       "- Pipeline and ColumnTransformer use this feature and define the default style\n",
       "- Estimators will overwrite some part of the style using the `sk-estimator` class\n",
       "*/\n",
       "\n",
       "/* Pipeline and ColumnTransformer style (default) */\n",
       "\n",
       "#sk-container-id-1 div.sk-toggleable {\n",
       "  /* Default theme specific background. It is overwritten whether we have a\n",
       "  specific estimator or a Pipeline/ColumnTransformer */\n",
       "  background-color: var(--sklearn-color-background);\n",
       "}\n",
       "\n",
       "/* Toggleable label */\n",
       "#sk-container-id-1 label.sk-toggleable__label {\n",
       "  cursor: pointer;\n",
       "  display: block;\n",
       "  width: 100%;\n",
       "  margin-bottom: 0;\n",
       "  padding: 0.5em;\n",
       "  box-sizing: border-box;\n",
       "  text-align: center;\n",
       "}\n",
       "\n",
       "#sk-container-id-1 label.sk-toggleable__label-arrow:before {\n",
       "  /* Arrow on the left of the label */\n",
       "  content: \"▸\";\n",
       "  float: left;\n",
       "  margin-right: 0.25em;\n",
       "  color: var(--sklearn-color-icon);\n",
       "}\n",
       "\n",
       "#sk-container-id-1 label.sk-toggleable__label-arrow:hover:before {\n",
       "  color: var(--sklearn-color-text);\n",
       "}\n",
       "\n",
       "/* Toggleable content - dropdown */\n",
       "\n",
       "#sk-container-id-1 div.sk-toggleable__content {\n",
       "  max-height: 0;\n",
       "  max-width: 0;\n",
       "  overflow: hidden;\n",
       "  text-align: left;\n",
       "  /* unfitted */\n",
       "  background-color: var(--sklearn-color-unfitted-level-0);\n",
       "}\n",
       "\n",
       "#sk-container-id-1 div.sk-toggleable__content.fitted {\n",
       "  /* fitted */\n",
       "  background-color: var(--sklearn-color-fitted-level-0);\n",
       "}\n",
       "\n",
       "#sk-container-id-1 div.sk-toggleable__content pre {\n",
       "  margin: 0.2em;\n",
       "  border-radius: 0.25em;\n",
       "  color: var(--sklearn-color-text);\n",
       "  /* unfitted */\n",
       "  background-color: var(--sklearn-color-unfitted-level-0);\n",
       "}\n",
       "\n",
       "#sk-container-id-1 div.sk-toggleable__content.fitted pre {\n",
       "  /* unfitted */\n",
       "  background-color: var(--sklearn-color-fitted-level-0);\n",
       "}\n",
       "\n",
       "#sk-container-id-1 input.sk-toggleable__control:checked~div.sk-toggleable__content {\n",
       "  /* Expand drop-down */\n",
       "  max-height: 200px;\n",
       "  max-width: 100%;\n",
       "  overflow: auto;\n",
       "}\n",
       "\n",
       "#sk-container-id-1 input.sk-toggleable__control:checked~label.sk-toggleable__label-arrow:before {\n",
       "  content: \"▾\";\n",
       "}\n",
       "\n",
       "/* Pipeline/ColumnTransformer-specific style */\n",
       "\n",
       "#sk-container-id-1 div.sk-label input.sk-toggleable__control:checked~label.sk-toggleable__label {\n",
       "  color: var(--sklearn-color-text);\n",
       "  background-color: var(--sklearn-color-unfitted-level-2);\n",
       "}\n",
       "\n",
       "#sk-container-id-1 div.sk-label.fitted input.sk-toggleable__control:checked~label.sk-toggleable__label {\n",
       "  background-color: var(--sklearn-color-fitted-level-2);\n",
       "}\n",
       "\n",
       "/* Estimator-specific style */\n",
       "\n",
       "/* Colorize estimator box */\n",
       "#sk-container-id-1 div.sk-estimator input.sk-toggleable__control:checked~label.sk-toggleable__label {\n",
       "  /* unfitted */\n",
       "  background-color: var(--sklearn-color-unfitted-level-2);\n",
       "}\n",
       "\n",
       "#sk-container-id-1 div.sk-estimator.fitted input.sk-toggleable__control:checked~label.sk-toggleable__label {\n",
       "  /* fitted */\n",
       "  background-color: var(--sklearn-color-fitted-level-2);\n",
       "}\n",
       "\n",
       "#sk-container-id-1 div.sk-label label.sk-toggleable__label,\n",
       "#sk-container-id-1 div.sk-label label {\n",
       "  /* The background is the default theme color */\n",
       "  color: var(--sklearn-color-text-on-default-background);\n",
       "}\n",
       "\n",
       "/* On hover, darken the color of the background */\n",
       "#sk-container-id-1 div.sk-label:hover label.sk-toggleable__label {\n",
       "  color: var(--sklearn-color-text);\n",
       "  background-color: var(--sklearn-color-unfitted-level-2);\n",
       "}\n",
       "\n",
       "/* Label box, darken color on hover, fitted */\n",
       "#sk-container-id-1 div.sk-label.fitted:hover label.sk-toggleable__label.fitted {\n",
       "  color: var(--sklearn-color-text);\n",
       "  background-color: var(--sklearn-color-fitted-level-2);\n",
       "}\n",
       "\n",
       "/* Estimator label */\n",
       "\n",
       "#sk-container-id-1 div.sk-label label {\n",
       "  font-family: monospace;\n",
       "  font-weight: bold;\n",
       "  display: inline-block;\n",
       "  line-height: 1.2em;\n",
       "}\n",
       "\n",
       "#sk-container-id-1 div.sk-label-container {\n",
       "  text-align: center;\n",
       "}\n",
       "\n",
       "/* Estimator-specific */\n",
       "#sk-container-id-1 div.sk-estimator {\n",
       "  font-family: monospace;\n",
       "  border: 1px dotted var(--sklearn-color-border-box);\n",
       "  border-radius: 0.25em;\n",
       "  box-sizing: border-box;\n",
       "  margin-bottom: 0.5em;\n",
       "  /* unfitted */\n",
       "  background-color: var(--sklearn-color-unfitted-level-0);\n",
       "}\n",
       "\n",
       "#sk-container-id-1 div.sk-estimator.fitted {\n",
       "  /* fitted */\n",
       "  background-color: var(--sklearn-color-fitted-level-0);\n",
       "}\n",
       "\n",
       "/* on hover */\n",
       "#sk-container-id-1 div.sk-estimator:hover {\n",
       "  /* unfitted */\n",
       "  background-color: var(--sklearn-color-unfitted-level-2);\n",
       "}\n",
       "\n",
       "#sk-container-id-1 div.sk-estimator.fitted:hover {\n",
       "  /* fitted */\n",
       "  background-color: var(--sklearn-color-fitted-level-2);\n",
       "}\n",
       "\n",
       "/* Specification for estimator info (e.g. \"i\" and \"?\") */\n",
       "\n",
       "/* Common style for \"i\" and \"?\" */\n",
       "\n",
       ".sk-estimator-doc-link,\n",
       "a:link.sk-estimator-doc-link,\n",
       "a:visited.sk-estimator-doc-link {\n",
       "  float: right;\n",
       "  font-size: smaller;\n",
       "  line-height: 1em;\n",
       "  font-family: monospace;\n",
       "  background-color: var(--sklearn-color-background);\n",
       "  border-radius: 1em;\n",
       "  height: 1em;\n",
       "  width: 1em;\n",
       "  text-decoration: none !important;\n",
       "  margin-left: 1ex;\n",
       "  /* unfitted */\n",
       "  border: var(--sklearn-color-unfitted-level-1) 1pt solid;\n",
       "  color: var(--sklearn-color-unfitted-level-1);\n",
       "}\n",
       "\n",
       ".sk-estimator-doc-link.fitted,\n",
       "a:link.sk-estimator-doc-link.fitted,\n",
       "a:visited.sk-estimator-doc-link.fitted {\n",
       "  /* fitted */\n",
       "  border: var(--sklearn-color-fitted-level-1) 1pt solid;\n",
       "  color: var(--sklearn-color-fitted-level-1);\n",
       "}\n",
       "\n",
       "/* On hover */\n",
       "div.sk-estimator:hover .sk-estimator-doc-link:hover,\n",
       ".sk-estimator-doc-link:hover,\n",
       "div.sk-label-container:hover .sk-estimator-doc-link:hover,\n",
       ".sk-estimator-doc-link:hover {\n",
       "  /* unfitted */\n",
       "  background-color: var(--sklearn-color-unfitted-level-3);\n",
       "  color: var(--sklearn-color-background);\n",
       "  text-decoration: none;\n",
       "}\n",
       "\n",
       "div.sk-estimator.fitted:hover .sk-estimator-doc-link.fitted:hover,\n",
       ".sk-estimator-doc-link.fitted:hover,\n",
       "div.sk-label-container:hover .sk-estimator-doc-link.fitted:hover,\n",
       ".sk-estimator-doc-link.fitted:hover {\n",
       "  /* fitted */\n",
       "  background-color: var(--sklearn-color-fitted-level-3);\n",
       "  color: var(--sklearn-color-background);\n",
       "  text-decoration: none;\n",
       "}\n",
       "\n",
       "/* Span, style for the box shown on hovering the info icon */\n",
       ".sk-estimator-doc-link span {\n",
       "  display: none;\n",
       "  z-index: 9999;\n",
       "  position: relative;\n",
       "  font-weight: normal;\n",
       "  right: .2ex;\n",
       "  padding: .5ex;\n",
       "  margin: .5ex;\n",
       "  width: min-content;\n",
       "  min-width: 20ex;\n",
       "  max-width: 50ex;\n",
       "  color: var(--sklearn-color-text);\n",
       "  box-shadow: 2pt 2pt 4pt #999;\n",
       "  /* unfitted */\n",
       "  background: var(--sklearn-color-unfitted-level-0);\n",
       "  border: .5pt solid var(--sklearn-color-unfitted-level-3);\n",
       "}\n",
       "\n",
       ".sk-estimator-doc-link.fitted span {\n",
       "  /* fitted */\n",
       "  background: var(--sklearn-color-fitted-level-0);\n",
       "  border: var(--sklearn-color-fitted-level-3);\n",
       "}\n",
       "\n",
       ".sk-estimator-doc-link:hover span {\n",
       "  display: block;\n",
       "}\n",
       "\n",
       "/* \"?\"-specific style due to the `<a>` HTML tag */\n",
       "\n",
       "#sk-container-id-1 a.estimator_doc_link {\n",
       "  float: right;\n",
       "  font-size: 1rem;\n",
       "  line-height: 1em;\n",
       "  font-family: monospace;\n",
       "  background-color: var(--sklearn-color-background);\n",
       "  border-radius: 1rem;\n",
       "  height: 1rem;\n",
       "  width: 1rem;\n",
       "  text-decoration: none;\n",
       "  /* unfitted */\n",
       "  color: var(--sklearn-color-unfitted-level-1);\n",
       "  border: var(--sklearn-color-unfitted-level-1) 1pt solid;\n",
       "}\n",
       "\n",
       "#sk-container-id-1 a.estimator_doc_link.fitted {\n",
       "  /* fitted */\n",
       "  border: var(--sklearn-color-fitted-level-1) 1pt solid;\n",
       "  color: var(--sklearn-color-fitted-level-1);\n",
       "}\n",
       "\n",
       "/* On hover */\n",
       "#sk-container-id-1 a.estimator_doc_link:hover {\n",
       "  /* unfitted */\n",
       "  background-color: var(--sklearn-color-unfitted-level-3);\n",
       "  color: var(--sklearn-color-background);\n",
       "  text-decoration: none;\n",
       "}\n",
       "\n",
       "#sk-container-id-1 a.estimator_doc_link.fitted:hover {\n",
       "  /* fitted */\n",
       "  background-color: var(--sklearn-color-fitted-level-3);\n",
       "}\n",
       "</style><div id=\"sk-container-id-1\" class=\"sk-top-container\"><div class=\"sk-text-repr-fallback\"><pre>LinearRegression()</pre><b>In a Jupyter environment, please rerun this cell to show the HTML representation or trust the notebook. <br />On GitHub, the HTML representation is unable to render, please try loading this page with nbviewer.org.</b></div><div class=\"sk-container\" hidden><div class=\"sk-item\"><div class=\"sk-estimator fitted sk-toggleable\"><input class=\"sk-toggleable__control sk-hidden--visually\" id=\"sk-estimator-id-1\" type=\"checkbox\" checked><label for=\"sk-estimator-id-1\" class=\"sk-toggleable__label fitted sk-toggleable__label-arrow fitted\">&nbsp;&nbsp;LinearRegression<a class=\"sk-estimator-doc-link fitted\" rel=\"noreferrer\" target=\"_blank\" href=\"https://scikit-learn.org/1.4/modules/generated/sklearn.linear_model.LinearRegression.html\">?<span>Documentation for LinearRegression</span></a><span class=\"sk-estimator-doc-link fitted\">i<span>Fitted</span></span></label><div class=\"sk-toggleable__content fitted\"><pre>LinearRegression()</pre></div> </div></div></div></div>"
      ],
      "text/plain": [
       "LinearRegression()"
      ]
     },
     "execution_count": 17,
     "metadata": {},
     "output_type": "execute_result"
    }
   ],
   "source": [
    "le.fit(x_train,y_train)"
   ]
  },
  {
   "cell_type": "code",
   "execution_count": 18,
   "id": "8169726e",
   "metadata": {
    "execution": {
     "iopub.execute_input": "2024-10-09T06:58:56.054992Z",
     "iopub.status.busy": "2024-10-09T06:58:56.054560Z",
     "iopub.status.idle": "2024-10-09T06:58:56.064841Z",
     "shell.execute_reply": "2024-10-09T06:58:56.063593Z"
    },
    "papermill": {
     "duration": 0.027359,
     "end_time": "2024-10-09T06:58:56.067252",
     "exception": false,
     "start_time": "2024-10-09T06:58:56.039893",
     "status": "completed"
    },
    "tags": []
   },
   "outputs": [],
   "source": [
    "# prediction of training data and testing data\n",
    "train_pred = le.predict(x_train)\n",
    "test_pred = le.predict(x_test)"
   ]
  },
  {
   "cell_type": "code",
   "execution_count": 19,
   "id": "ec9453d7",
   "metadata": {
    "execution": {
     "iopub.execute_input": "2024-10-09T06:58:56.093781Z",
     "iopub.status.busy": "2024-10-09T06:58:56.093301Z",
     "iopub.status.idle": "2024-10-09T06:58:56.103324Z",
     "shell.execute_reply": "2024-10-09T06:58:56.102016Z"
    },
    "papermill": {
     "duration": 0.027628,
     "end_time": "2024-10-09T06:58:56.107601",
     "exception": false,
     "start_time": "2024-10-09T06:58:56.079973",
     "status": "completed"
    },
    "tags": []
   },
   "outputs": [
    {
     "name": "stdout",
     "output_type": "stream",
     "text": [
      "[ 6.78487861e+00  1.03052148e+00  4.33053370e+00  2.19376150e-02\n",
      "  3.57946207e+00  2.79503372e+00  1.43719894e+00  4.14889545e-01\n",
      "  1.61166418e+00  1.12839641e+00  4.32086309e+00  6.17477452e+00\n",
      "  9.29097627e-01  7.35592155e-01  6.15378778e+00  3.42694561e+00\n",
      "  2.32984882e+00  7.50014006e+00  4.61811711e+00  4.43437311e+00\n",
      "  4.45915634e+00  2.73352428e+00  4.44377264e+00  1.71378422e+00\n",
      "  2.49318608e-01  3.94331375e+00  1.37445456e+00  4.61754769e+00\n",
      "  1.38595068e+00  7.35605367e+00  7.24473016e+00  6.54331682e+00\n",
      "  2.29055849e+00  2.19058216e+01  2.19873970e+00  5.64492151e+00\n",
      "  2.82714047e+00  7.68311323e+00  5.67039850e+00  1.00273475e+01\n",
      "  1.99828812e+00  2.37716894e+00  1.22731322e+00  2.40303328e+00\n",
      "  9.94390646e+00  2.01662591e+00 -6.42391420e-01  5.42943934e+00\n",
      "  1.14107420e+01 -5.10458803e-03  1.09479248e+00  1.61329534e+00\n",
      "  5.38687939e+00  1.36601921e+00  7.71862076e+00  1.84430864e+01\n",
      "  2.49779943e+00  1.56000342e-01  1.81959532e+00  9.31246211e+00\n",
      "  3.96558814e+00  7.02797424e+00  1.69352770e+01  1.03411134e+01\n",
      "  3.65114227e+00  1.43435181e+00  4.29843090e+00 -4.54939435e-01\n",
      "  1.64173236e+00  8.22988885e+00  1.09423090e+00  7.45642932e+00\n",
      " -1.90995072e+00  7.72800651e-01  7.25620723e+00  8.01019326e+00\n",
      "  7.45751758e+00 -3.75122821e+00  3.79109166e+00  8.22448048e+00\n",
      "  3.44402837e+00  2.52152419e+00  4.18448492e+00 -3.26749144e+00\n",
      "  5.16786623e+00  1.87360898e+00  3.48602941e+00  7.70362004e+00\n",
      " -9.06956115e-02  1.77865319e+00  1.53684674e+00  1.80277456e+00\n",
      "  3.45977466e+00 -2.65817186e+00  2.19972036e-01  6.44522490e+00\n",
      "  6.90499678e+00  1.21279211e+00  1.90713620e+00  7.74159728e+00\n",
      "  3.99503357e+00  6.42471346e-01  7.97984543e+00  6.33756704e+00\n",
      "  1.29354167e+00 -1.98870390e+00  5.24884079e+00  6.00278946e+00\n",
      "  5.14361351e+00  4.20950352e+00  8.71508868e-01  7.44305799e+00\n",
      "  4.00550045e+00 -1.09255724e+00  1.09196700e+01  4.39076739e+00\n",
      "  2.89919343e+00  1.85417966e+00  4.93436442e+00  4.77774685e+00\n",
      "  4.22744610e+00  1.71290728e+01 -1.12038871e+00  1.18729975e+00\n",
      "  5.19355008e+00  2.04457158e+00  5.95723545e+00  3.52890705e+00\n",
      "  4.81515976e+00  3.40336882e+00  4.63337520e-01  4.41492642e+00\n",
      "  2.01493429e+01  3.82765933e+00  4.44932593e+00  2.11396614e+00\n",
      "  2.93132775e+00  1.14096615e-01  7.55849435e+00 -1.00126905e+00\n",
      "  2.07354617e+01  1.64670240e-01  7.65319973e+00  1.89880814e+00\n",
      "  1.52660493e+00  8.67870258e+00  2.03600301e+01  3.05206470e+00\n",
      "  4.48535398e+00  5.12780334e+00  4.41337505e+00  6.28482420e+00\n",
      "  6.27168284e+00  1.57589236e+00  4.50024487e-01  7.17110691e+00\n",
      "  8.27663335e+00  2.19282312e+00 -2.99144074e+00  4.27837575e+00\n",
      "  4.28022714e+00  5.14180550e+00 -4.19292465e-01  6.39617603e+00\n",
      "  4.39676913e+00  8.16331736e+00  7.41249009e-01  1.08495649e+01\n",
      "  5.63696128e+00 -1.02929008e+00  6.49517252e+00  5.07969893e+00\n",
      "  7.00454887e+00  4.90462362e+00  5.80436297e+00  2.05008698e+00\n",
      "  2.52692576e+00  4.89255575e+00  3.14891182e+00 -1.55909677e+00\n",
      "  4.16854007e+01  5.94326442e+00  5.24458745e+00  3.25957734e-01\n",
      "  9.01986315e+00  6.65802626e+00  7.17160695e+00  1.59662540e+00\n",
      "  7.12444091e+00  9.17451362e+00  4.45913452e+00  3.37989837e+00\n",
      "  6.44371065e+00  6.65358475e+00  1.66397563e+01  9.46151467e+00\n",
      "  6.26497414e+00 -2.15246176e-01  2.56007205e+00  2.96940709e+00\n",
      "  5.84690818e+00  5.17407622e+00  8.72887702e-01  8.12918563e+00\n",
      "  5.75754092e+00  7.68921017e+00  2.10658085e+00  1.68458374e+01\n",
      "  4.88967980e+00  1.46791362e+01  1.05799079e+01  2.13883238e+00\n",
      " -1.30599269e-01  1.00097863e+01 -3.07770848e+00  3.50470590e+00\n",
      "  2.75194751e+00  3.42097157e+00  7.48193733e+00  3.94545063e+00\n",
      "  1.84430864e+01  8.12600863e+00  2.46555710e+00  8.33380872e-01\n",
      "  5.97530664e-01  5.26896875e-01  3.61787146e-01  5.38561875e+00\n",
      "  6.48981394e+00 -2.93240167e-01  3.09577006e+00  9.08312391e+00\n",
      "  8.42805579e+00  1.33962385e-02  5.62929481e+00  4.71348555e+00\n",
      "  5.03958555e+00  8.92875514e+00  8.67870258e+00  3.23886627e-01]\n",
      "[10.39222503  0.71269634  4.26367425  4.89542882  9.84484784  4.22631808\n",
      "  7.1173891   7.37327394  0.1592961   5.16712598  6.20624893  6.17414198\n",
      "  2.11880837  7.74045843  1.92235986  1.71406658  2.02899942  1.8536463\n",
      "  9.35171759  4.2546458   1.48996098  9.14496453  1.45846216  9.63402658\n",
      "  0.82165042  8.07898502  1.53763892 -3.19873666  4.22373915  2.09526116\n",
      "  3.42865389  3.72427545  5.58001877  7.75879392 -1.91563192  6.80980082\n",
      "  8.20694812  5.81047156  6.15629896  6.27493028 16.02197751  2.07455343\n",
      "  1.04886513 -0.45830577  6.82090538  6.78567581  0.98725428  6.83257783\n",
      " 14.31925066  3.01359825  8.04481951 -0.89441322  8.99139759  1.14814903\n",
      "  2.1191082  -0.82919712  0.68456956 10.02743111 -0.46773344 -2.43254957\n",
      " 10.0831552 ]\n"
     ]
    }
   ],
   "source": [
    "print(train_pred)\n",
    "print(test_pred)"
   ]
  },
  {
   "cell_type": "markdown",
   "id": "9d60065a",
   "metadata": {
    "papermill": {
     "duration": 0.01166,
     "end_time": "2024-10-09T06:58:56.131889",
     "exception": false,
     "start_time": "2024-10-09T06:58:56.120229",
     "status": "completed"
    },
    "tags": []
   },
   "source": [
    "### Model Evaluation"
   ]
  },
  {
   "cell_type": "code",
   "execution_count": 20,
   "id": "c6bad76d",
   "metadata": {
    "execution": {
     "iopub.execute_input": "2024-10-09T06:58:56.158480Z",
     "iopub.status.busy": "2024-10-09T06:58:56.157936Z",
     "iopub.status.idle": "2024-10-09T06:58:56.167078Z",
     "shell.execute_reply": "2024-10-09T06:58:56.165975Z"
    },
    "papermill": {
     "duration": 0.025388,
     "end_time": "2024-10-09T06:58:56.169756",
     "exception": false,
     "start_time": "2024-10-09T06:58:56.144368",
     "status": "completed"
    },
    "tags": []
   },
   "outputs": [
    {
     "name": "stdout",
     "output_type": "stream",
     "text": [
      "R squared Error of training data: 0.8838169193709796\n",
      "R squared Error of testing data: 0.8401532365378493\n"
     ]
    }
   ],
   "source": [
    "# R squared Error\n",
    "error_train = metrics.r2_score(y_train,train_pred)\n",
    "print('R squared Error of training data:',error_train)\n",
    "\n",
    "error_test = metrics.r2_score(y_test,test_pred)\n",
    "print('R squared Error of testing data:',error_test)"
   ]
  },
  {
   "cell_type": "markdown",
   "id": "a866926f",
   "metadata": {
    "papermill": {
     "duration": 0.011772,
     "end_time": "2024-10-09T06:58:56.193648",
     "exception": false,
     "start_time": "2024-10-09T06:58:56.181876",
     "status": "completed"
    },
    "tags": []
   },
   "source": [
    "### Visualization "
   ]
  },
  {
   "cell_type": "code",
   "execution_count": 21,
   "id": "1f97dfe0",
   "metadata": {
    "execution": {
     "iopub.execute_input": "2024-10-09T06:58:56.219847Z",
     "iopub.status.busy": "2024-10-09T06:58:56.219197Z",
     "iopub.status.idle": "2024-10-09T06:58:56.815582Z",
     "shell.execute_reply": "2024-10-09T06:58:56.813946Z"
    },
    "papermill": {
     "duration": 0.612335,
     "end_time": "2024-10-09T06:58:56.818111",
     "exception": false,
     "start_time": "2024-10-09T06:58:56.205776",
     "status": "completed"
    },
    "tags": []
   },
   "outputs": [
    {
     "data": {
      "image/png": "[encoded data removed]",
      "text/plain": [
       "<Figure size 1000x600 with 1 Axes>"
      ]
     },
     "metadata": {},
     "output_type": "display_data"
    },
    {
     "data": {
      "image/png": "[encoded data removed]",
      "text/plain": [
       "<Figure size 1000x600 with 1 Axes>"
      ]
     },
     "metadata": {},
     "output_type": "display_data"
    }
   ],
   "source": [
    "plt.figure(figsize =(10,6))\n",
    "plt.scatter(y_train,train_pred)\n",
    "plt.xlabel('Actual Prices')\n",
    "plt.ylabel('Predicted Prices')\n",
    "plt.title('For Training Data: Actual Prices vs Predicted Prices')\n",
    "plt.show()\n",
    "\n",
    "plt.figure(figsize =(10,6))\n",
    "plt.scatter(y_test,test_pred)\n",
    "plt.xlabel('Actual Prices')\n",
    "plt.ylabel('Predicted Prices')\n",
    "plt.title('For Testing Data: Actual Prices vs Predicted Prices')\n",
    "plt.show()"
   ]
  },
  {
   "cell_type": "code",
   "execution_count": null,
   "id": "179ed6a0",
   "metadata": {
    "papermill": {
     "duration": 0.013167,
     "end_time": "2024-10-09T06:58:56.844820",
     "exception": false,
     "start_time": "2024-10-09T06:58:56.831653",
     "status": "completed"
    },
    "tags": []
   },
   "outputs": [],
   "source": []
  }
 ],
 "metadata": {
  "kaggle": {
   "accelerator": "none",
   "dataSources": [
    {
     "datasetId": 33080,
     "sourceId": 4852390,
     "sourceType": "datasetVersion"
    }
   ],
   "dockerImageVersionId": 30786,
   "isGpuEnabled": false,
   "isInternetEnabled": true,
   "language": "python",
   "sourceType": "notebook"
  },
  "kernelspec": {
   "display_name": "Python 3 (ipykernel)",
   "language": "python",
   "name": "python3"
  },
  "language_info": {
   "codemirror_mode": {
    "name": "ipython",
    "version": 3
   },
   "file_extension": ".py",
   "mimetype": "text/x-python",
   "name": "python",
   "nbconvert_exporter": "python",
   "pygments_lexer": "ipython3",
   "version": "3.10.9"
  },
  "papermill": {
   "default_parameters": {},
   "duration": 8.651224,
   "end_time": "2024-10-09T06:58:57.580504",
   "environment_variables": {},
   "exception": null,
   "input_path": "__notebook__.ipynb",
   "output_path": "__notebook__.ipynb",
   "parameters": {},
   "start_time": "2024-10-09T06:58:48.929280",
   "version": "2.6.0"
  }
 },
 "nbformat": 4,
 "nbformat_minor": 5
}
